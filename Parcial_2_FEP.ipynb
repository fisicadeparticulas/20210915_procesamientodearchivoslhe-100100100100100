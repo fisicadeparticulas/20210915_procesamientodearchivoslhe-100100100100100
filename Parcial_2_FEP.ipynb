{
  "nbformat": 4,
  "nbformat_minor": 0,
  "metadata": {
    "colab": {
      "name": "Parcial 2 FEP",
      "provenance": [],
      "authorship_tag": "ABX9TyNoS49P0xD/954fBC94uVbP",
      "include_colab_link": true
    },
    "kernelspec": {
      "name": "python3",
      "display_name": "Python 3"
    },
    "language_info": {
      "name": "python"
    }
  },
  "cells": [
    {
      "cell_type": "markdown",
      "metadata": {
        "id": "view-in-github",
        "colab_type": "text"
      },
      "source": [
        "<a href=\"https://colab.research.google.com/github/fisicadeparticulas/20210915_procesamientodearchivoslhe-100100100100100/blob/main/Parcial_2_FEP.ipynb\" target=\"_parent\"><img src=\"https://colab.research.google.com/assets/colab-badge.svg\" alt=\"Open In Colab\"/></a>"
      ]
    },
    {
      "cell_type": "code",
      "metadata": {
        "colab": {
          "base_uri": "https://localhost:8080/",
          "height": 439
        },
        "id": "y6G-3GisnT94",
        "outputId": "421d668b-792f-4d44-f727-498d3f995edb"
      },
      "source": [
        "import pandas as pd \n",
        "import numpy as np\n",
        "import matplotlib.pyplot as plt\n",
        "from scipy.stats import norm\n",
        "from scipy import constants as sc\n",
        "import math\n",
        "import plotly.express as px\n",
        "\n",
        "\n",
        "data=pd.read_csv('https://goo.gl/sp8gYx')\n",
        "\n",
        "data.head(100)"
      ],
      "execution_count": null,
      "outputs": [
        {
          "output_type": "execute_result",
          "data": {
            "text/html": [
              "<div>\n",
              "<style scoped>\n",
              "    .dataframe tbody tr th:only-of-type {\n",
              "        vertical-align: middle;\n",
              "    }\n",
              "\n",
              "    .dataframe tbody tr th {\n",
              "        vertical-align: top;\n",
              "    }\n",
              "\n",
              "    .dataframe thead th {\n",
              "        text-align: right;\n",
              "    }\n",
              "</style>\n",
              "<table border=\"1\" class=\"dataframe\">\n",
              "  <thead>\n",
              "    <tr style=\"text-align: right;\">\n",
              "      <th></th>\n",
              "      <th>Run</th>\n",
              "      <th>Event</th>\n",
              "      <th>type1</th>\n",
              "      <th>Q1</th>\n",
              "      <th>pt1</th>\n",
              "      <th>eta1</th>\n",
              "      <th>phi1</th>\n",
              "      <th>E1</th>\n",
              "      <th>px1</th>\n",
              "      <th>py1</th>\n",
              "      <th>pz1</th>\n",
              "      <th>type2</th>\n",
              "      <th>Q2</th>\n",
              "      <th>pt2</th>\n",
              "      <th>eta2</th>\n",
              "      <th>phi2</th>\n",
              "      <th>E2</th>\n",
              "      <th>px2</th>\n",
              "      <th>py2</th>\n",
              "      <th>pz2</th>\n",
              "      <th>M</th>\n",
              "    </tr>\n",
              "  </thead>\n",
              "  <tbody>\n",
              "    <tr>\n",
              "      <th>0</th>\n",
              "      <td>166699</td>\n",
              "      <td>835716681</td>\n",
              "      <td>G</td>\n",
              "      <td>1</td>\n",
              "      <td>4.2116</td>\n",
              "      <td>2.2366</td>\n",
              "      <td>-0.4849</td>\n",
              "      <td>19.9382</td>\n",
              "      <td>3.7261</td>\n",
              "      <td>-1.9631</td>\n",
              "      <td>19.4881</td>\n",
              "      <td>T</td>\n",
              "      <td>-1</td>\n",
              "      <td>1.2556</td>\n",
              "      <td>2.2683</td>\n",
              "      <td>-1.4488</td>\n",
              "      <td>6.1319</td>\n",
              "      <td>0.1528</td>\n",
              "      <td>-1.2463</td>\n",
              "      <td>6.0011</td>\n",
              "      <td>2.1330</td>\n",
              "    </tr>\n",
              "    <tr>\n",
              "      <th>1</th>\n",
              "      <td>166699</td>\n",
              "      <td>836133459</td>\n",
              "      <td>G</td>\n",
              "      <td>-1</td>\n",
              "      <td>2.1479</td>\n",
              "      <td>-2.0159</td>\n",
              "      <td>-2.7753</td>\n",
              "      <td>8.2066</td>\n",
              "      <td>-2.0055</td>\n",
              "      <td>-0.7692</td>\n",
              "      <td>-7.9199</td>\n",
              "      <td>G</td>\n",
              "      <td>1</td>\n",
              "      <td>19.5453</td>\n",
              "      <td>-1.0826</td>\n",
              "      <td>-0.3408</td>\n",
              "      <td>32.1613</td>\n",
              "      <td>18.4210</td>\n",
              "      <td>-6.5332</td>\n",
              "      <td>-25.5406</td>\n",
              "      <td>13.6786</td>\n",
              "    </tr>\n",
              "    <tr>\n",
              "      <th>2</th>\n",
              "      <td>166699</td>\n",
              "      <td>836165498</td>\n",
              "      <td>G</td>\n",
              "      <td>1</td>\n",
              "      <td>21.0732</td>\n",
              "      <td>1.5948</td>\n",
              "      <td>-1.1137</td>\n",
              "      <td>54.0560</td>\n",
              "      <td>9.2997</td>\n",
              "      <td>-18.9102</td>\n",
              "      <td>49.7791</td>\n",
              "      <td>T</td>\n",
              "      <td>-1</td>\n",
              "      <td>2.3864</td>\n",
              "      <td>1.5352</td>\n",
              "      <td>-1.7388</td>\n",
              "      <td>5.7968</td>\n",
              "      <td>-0.3991</td>\n",
              "      <td>-2.3528</td>\n",
              "      <td>5.2818</td>\n",
              "      <td>4.3813</td>\n",
              "    </tr>\n",
              "    <tr>\n",
              "      <th>3</th>\n",
              "      <td>166699</td>\n",
              "      <td>836249706</td>\n",
              "      <td>G</td>\n",
              "      <td>1</td>\n",
              "      <td>18.5889</td>\n",
              "      <td>1.6422</td>\n",
              "      <td>1.1923</td>\n",
              "      <td>49.8180</td>\n",
              "      <td>6.8688</td>\n",
              "      <td>17.2734</td>\n",
              "      <td>46.2199</td>\n",
              "      <td>G</td>\n",
              "      <td>-1</td>\n",
              "      <td>1.8721</td>\n",
              "      <td>1.9704</td>\n",
              "      <td>1.6393</td>\n",
              "      <td>6.8459</td>\n",
              "      <td>-0.1281</td>\n",
              "      <td>1.8678</td>\n",
              "      <td>6.5841</td>\n",
              "      <td>3.2587</td>\n",
              "    </tr>\n",
              "    <tr>\n",
              "      <th>4</th>\n",
              "      <td>166699</td>\n",
              "      <td>835608783</td>\n",
              "      <td>G</td>\n",
              "      <td>-1</td>\n",
              "      <td>11.8194</td>\n",
              "      <td>0.8711</td>\n",
              "      <td>-1.5811</td>\n",
              "      <td>16.5947</td>\n",
              "      <td>-0.1214</td>\n",
              "      <td>-11.8187</td>\n",
              "      <td>11.6479</td>\n",
              "      <td>T</td>\n",
              "      <td>1</td>\n",
              "      <td>0.9408</td>\n",
              "      <td>2.0107</td>\n",
              "      <td>-1.6559</td>\n",
              "      <td>3.5779</td>\n",
              "      <td>-0.0799</td>\n",
              "      <td>-0.9374</td>\n",
              "      <td>3.4504</td>\n",
              "      <td>4.0171</td>\n",
              "    </tr>\n",
              "    <tr>\n",
              "      <th>...</th>\n",
              "      <td>...</td>\n",
              "      <td>...</td>\n",
              "      <td>...</td>\n",
              "      <td>...</td>\n",
              "      <td>...</td>\n",
              "      <td>...</td>\n",
              "      <td>...</td>\n",
              "      <td>...</td>\n",
              "      <td>...</td>\n",
              "      <td>...</td>\n",
              "      <td>...</td>\n",
              "      <td>...</td>\n",
              "      <td>...</td>\n",
              "      <td>...</td>\n",
              "      <td>...</td>\n",
              "      <td>...</td>\n",
              "      <td>...</td>\n",
              "      <td>...</td>\n",
              "      <td>...</td>\n",
              "      <td>...</td>\n",
              "      <td>...</td>\n",
              "    </tr>\n",
              "    <tr>\n",
              "      <th>95</th>\n",
              "      <td>166699</td>\n",
              "      <td>839797270</td>\n",
              "      <td>G</td>\n",
              "      <td>1</td>\n",
              "      <td>2.2898</td>\n",
              "      <td>-1.6033</td>\n",
              "      <td>1.3764</td>\n",
              "      <td>5.9208</td>\n",
              "      <td>0.4424</td>\n",
              "      <td>2.2466</td>\n",
              "      <td>-5.4591</td>\n",
              "      <td>T</td>\n",
              "      <td>-1</td>\n",
              "      <td>0.7680</td>\n",
              "      <td>-2.0530</td>\n",
              "      <td>-0.1780</td>\n",
              "      <td>3.0429</td>\n",
              "      <td>0.7558</td>\n",
              "      <td>-0.1360</td>\n",
              "      <td>-2.9426</td>\n",
              "      <td>1.9548</td>\n",
              "    </tr>\n",
              "    <tr>\n",
              "      <th>96</th>\n",
              "      <td>166699</td>\n",
              "      <td>839975918</td>\n",
              "      <td>G</td>\n",
              "      <td>-1</td>\n",
              "      <td>5.2071</td>\n",
              "      <td>1.1383</td>\n",
              "      <td>3.0100</td>\n",
              "      <td>8.9615</td>\n",
              "      <td>-5.1621</td>\n",
              "      <td>0.6832</td>\n",
              "      <td>7.2927</td>\n",
              "      <td>T</td>\n",
              "      <td>1</td>\n",
              "      <td>2.4006</td>\n",
              "      <td>1.4253</td>\n",
              "      <td>-1.8956</td>\n",
              "      <td>5.2821</td>\n",
              "      <td>-0.7661</td>\n",
              "      <td>-2.2751</td>\n",
              "      <td>4.7039</td>\n",
              "      <td>4.6084</td>\n",
              "    </tr>\n",
              "    <tr>\n",
              "      <th>97</th>\n",
              "      <td>166699</td>\n",
              "      <td>840259862</td>\n",
              "      <td>G</td>\n",
              "      <td>1</td>\n",
              "      <td>1.1101</td>\n",
              "      <td>-1.7534</td>\n",
              "      <td>2.3063</td>\n",
              "      <td>3.2715</td>\n",
              "      <td>-0.7389</td>\n",
              "      <td>0.8150</td>\n",
              "      <td>-3.0792</td>\n",
              "      <td>T</td>\n",
              "      <td>-1</td>\n",
              "      <td>1.5596</td>\n",
              "      <td>-1.4058</td>\n",
              "      <td>0.5453</td>\n",
              "      <td>3.3736</td>\n",
              "      <td>1.3334</td>\n",
              "      <td>0.8089</td>\n",
              "      <td>-2.9896</td>\n",
              "      <td>2.0805</td>\n",
              "    </tr>\n",
              "    <tr>\n",
              "      <th>98</th>\n",
              "      <td>166699</td>\n",
              "      <td>839604688</td>\n",
              "      <td>G</td>\n",
              "      <td>-1</td>\n",
              "      <td>3.4942</td>\n",
              "      <td>2.2402</td>\n",
              "      <td>0.4665</td>\n",
              "      <td>16.6013</td>\n",
              "      <td>3.1208</td>\n",
              "      <td>1.5716</td>\n",
              "      <td>16.2290</td>\n",
              "      <td>T</td>\n",
              "      <td>1</td>\n",
              "      <td>0.8104</td>\n",
              "      <td>2.0089</td>\n",
              "      <td>1.7814</td>\n",
              "      <td>3.0770</td>\n",
              "      <td>-0.1694</td>\n",
              "      <td>0.7925</td>\n",
              "      <td>2.9665</td>\n",
              "      <td>2.0934</td>\n",
              "    </tr>\n",
              "    <tr>\n",
              "      <th>99</th>\n",
              "      <td>166699</td>\n",
              "      <td>839830920</td>\n",
              "      <td>G</td>\n",
              "      <td>-1</td>\n",
              "      <td>2.9401</td>\n",
              "      <td>-2.1109</td>\n",
              "      <td>-2.2093</td>\n",
              "      <td>12.3142</td>\n",
              "      <td>-1.7523</td>\n",
              "      <td>-2.3608</td>\n",
              "      <td>-11.9576</td>\n",
              "      <td>T</td>\n",
              "      <td>1</td>\n",
              "      <td>1.4931</td>\n",
              "      <td>-1.7382</td>\n",
              "      <td>-1.2382</td>\n",
              "      <td>4.3782</td>\n",
              "      <td>0.4875</td>\n",
              "      <td>-1.4112</td>\n",
              "      <td>-4.1143</td>\n",
              "      <td>2.1075</td>\n",
              "    </tr>\n",
              "  </tbody>\n",
              "</table>\n",
              "<p>100 rows × 21 columns</p>\n",
              "</div>"
            ],
            "text/plain": [
              "       Run      Event type1  Q1  ...      px2     py2      pz2        M\n",
              "0   166699  835716681     G   1  ...   0.1528 -1.2463   6.0011   2.1330\n",
              "1   166699  836133459     G  -1  ...  18.4210 -6.5332 -25.5406  13.6786\n",
              "2   166699  836165498     G   1  ...  -0.3991 -2.3528   5.2818   4.3813\n",
              "3   166699  836249706     G   1  ...  -0.1281  1.8678   6.5841   3.2587\n",
              "4   166699  835608783     G  -1  ...  -0.0799 -0.9374   3.4504   4.0171\n",
              "..     ...        ...   ...  ..  ...      ...     ...      ...      ...\n",
              "95  166699  839797270     G   1  ...   0.7558 -0.1360  -2.9426   1.9548\n",
              "96  166699  839975918     G  -1  ...  -0.7661 -2.2751   4.7039   4.6084\n",
              "97  166699  840259862     G   1  ...   1.3334  0.8089  -2.9896   2.0805\n",
              "98  166699  839604688     G  -1  ...  -0.1694  0.7925   2.9665   2.0934\n",
              "99  166699  839830920     G  -1  ...   0.4875 -1.4112  -4.1143   2.1075\n",
              "\n",
              "[100 rows x 21 columns]"
            ]
          },
          "metadata": {},
          "execution_count": 13
        }
      ]
    },
    {
      "cell_type": "markdown",
      "metadata": {
        "id": "23VXuXelZR_z"
      },
      "source": [
        "**Masa Invariante En Unidades Naturales**"
      ]
    },
    {
      "cell_type": "code",
      "metadata": {
        "colab": {
          "base_uri": "https://localhost:8080/",
          "height": 435
        },
        "id": "fw4HvF8_YYsJ",
        "outputId": "8085b5d4-388b-44d6-9f54-bde9b1b7be4d"
      },
      "source": [
        "E= (data['E1'] + data['E2'])**2\n",
        "Px= (data['px1']+data['px2'])**2\n",
        "Py= (data['py1']+data['py2'])**2\n",
        "Pz= (data['pz1']+data['pz2'])**2\n",
        "P = Px + Py + Pz\n",
        "EP = E-P\n",
        "\n",
        "m = np.sqrt(EP)\n",
        "\n",
        "plt.hist(m)"
      ],
      "execution_count": null,
      "outputs": [
        {
          "output_type": "stream",
          "name": "stderr",
          "text": [
            "/usr/local/lib/python3.7/dist-packages/pandas/core/series.py:726: RuntimeWarning:\n",
            "\n",
            "invalid value encountered in sqrt\n",
            "\n"
          ]
        },
        {
          "output_type": "execute_result",
          "data": {
            "text/plain": [
              "(array([6.5995e+04, 4.7860e+03, 4.4780e+03, 8.3070e+03, 1.0000e+02,\n",
              "        4.3000e+01, 2.0000e+01, 1.0000e+01, 1.2000e+01, 4.0000e+00]),\n",
              " array([2.65014226e-01, 2.99196251e+01, 5.95742359e+01, 8.92288468e+01,\n",
              "        1.18883458e+02, 1.48538069e+02, 1.78192679e+02, 2.07847290e+02,\n",
              "        2.37501901e+02, 2.67156512e+02, 2.96811123e+02]),\n",
              " <a list of 10 Patch objects>)"
            ]
          },
          "metadata": {},
          "execution_count": 4
        },
        {
          "output_type": "display_data",
          "data": {
            "image/png": "[encoded data removed]",
            "text/plain": [
              "<Figure size 432x288 with 1 Axes>"
            ]
          },
          "metadata": {
            "needs_background": "light"
          }
        }
      ]
    },
    {
      "cell_type": "code",
      "metadata": {
        "colab": {
          "base_uri": "https://localhost:8080/",
          "height": 367
        },
        "id": "hOME-KOEZ5F9",
        "outputId": "37d5a221-9d63-4b2f-d8a1-762a0a7d7f77"
      },
      "source": [
        "#plt.plot(np.sqrt(Px+Py))\n",
        "plt.hist(np.sqrt(Px+Py))"
      ],
      "execution_count": null,
      "outputs": [
        {
          "output_type": "execute_result",
          "data": {
            "text/plain": [
              "(array([8.3756e+04, 2.0000e+00, 1.0000e+00, 0.0000e+00, 0.0000e+00,\n",
              "        0.0000e+00, 0.0000e+00, 1.0000e+00, 0.0000e+00, 1.0000e+00]),\n",
              " array([1.18962179e-02, 9.32566626e+02, 1.86512136e+03, 2.79767609e+03,\n",
              "        3.73023082e+03, 4.66278555e+03, 5.59534027e+03, 6.52789500e+03,\n",
              "        7.46044973e+03, 8.39300446e+03, 9.32555919e+03]),\n",
              " <a list of 10 Patch objects>)"
            ]
          },
          "metadata": {},
          "execution_count": 8
        },
        {
          "output_type": "display_data",
          "data": {
            "image/png": "[encoded data removed]",
            "text/plain": [
              "<Figure size 432x288 with 1 Axes>"
            ]
          },
          "metadata": {
            "needs_background": "light"
          }
        }
      ]
    },
    {
      "cell_type": "markdown",
      "metadata": {
        "id": "Ge98-7XvZuGu"
      },
      "source": [
        ""
      ]
    },
    {
      "cell_type": "code",
      "metadata": {
        "id": "Ts_VvouAogAk",
        "colab": {
          "base_uri": "https://localhost:8080/",
          "height": 350
        },
        "outputId": "d7a662c0-9660-4f19-c522-f63e7b891c6f"
      },
      "source": [
        "plt.hist(data['M'])"
      ],
      "execution_count": null,
      "outputs": [
        {
          "output_type": "execute_result",
          "data": {
            "text/plain": [
              "(array([6.6018e+04, 4.7630e+03, 4.5230e+03, 8.2690e+03, 1.0000e+02,\n",
              "        4.3000e+01, 1.9000e+01, 1.0000e+01, 1.2000e+01, 4.0000e+00]),\n",
              " array([  0.3001 ,  29.95129,  59.60248,  89.25367, 118.90486, 148.55605,\n",
              "        178.20724, 207.85843, 237.50962, 267.16081, 296.812  ]),\n",
              " <a list of 10 Patch objects>)"
            ]
          },
          "metadata": {},
          "execution_count": 8
        },
        {
          "output_type": "display_data",
          "data": {
            "image/png": "[encoded data removed]",
            "text/plain": [
              "<Figure size 432x288 with 1 Axes>"
            ]
          },
          "metadata": {
            "needs_background": "light"
          }
        }
      ]
    },
    {
      "cell_type": "code",
      "metadata": {
        "colab": {
          "base_uri": "https://localhost:8080/",
          "height": 367
        },
        "id": "Z6PGqNToaWxw",
        "outputId": "709d5c6f-bddb-480c-b2f3-4774be5e0110"
      },
      "source": [
        "plt.hist((data['pt1']+data['pt2']))"
      ],
      "execution_count": null,
      "outputs": [
        {
          "output_type": "execute_result",
          "data": {
            "text/plain": [
              "(array([8.3752e+04, 4.0000e+00, 1.0000e+00, 2.0000e+00, 0.0000e+00,\n",
              "        0.0000e+00, 0.0000e+00, 1.0000e+00, 0.0000e+00, 1.0000e+00]),\n",
              " array([1.01070000e+00, 9.33468010e+02, 1.86592532e+03, 2.79838263e+03,\n",
              "        3.73083994e+03, 4.66329725e+03, 5.59575456e+03, 6.52821187e+03,\n",
              "        7.46066918e+03, 8.39312649e+03, 9.32558380e+03]),\n",
              " <a list of 10 Patch objects>)"
            ]
          },
          "metadata": {},
          "execution_count": 12
        },
        {
          "output_type": "display_data",
          "data": {
            "image/png": "[encoded data removed]",
            "text/plain": [
              "<Figure size 432x288 with 1 Axes>"
            ]
          },
          "metadata": {
            "needs_background": "light"
          }
        }
      ]
    }
  ]
}