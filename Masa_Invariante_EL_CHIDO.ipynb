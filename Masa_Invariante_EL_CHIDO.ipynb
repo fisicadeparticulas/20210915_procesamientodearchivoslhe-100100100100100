{
  "nbformat": 4,
  "nbformat_minor": 0,
  "metadata": {
    "colab": {
      "name": "Masa Invariante EL CHIDO ",
      "provenance": [],
      "collapsed_sections": [],
      "mount_file_id": "17tZ8vmmZbxeoy_S-Gtz77-54rP0mn1rx",
      "authorship_tag": "ABX9TyMSaxJPQwycA0T8geC/K9VC",
      "include_colab_link": true
    },
    "kernelspec": {
      "name": "python3",
      "display_name": "Python 3"
    },
    "language_info": {
      "name": "python"
    }
  },
  "cells": [
    {
      "cell_type": "markdown",
      "metadata": {
        "id": "view-in-github",
        "colab_type": "text"
      },
      "source": [
        "<a href=\"https://colab.research.google.com/github/fisicadeparticulas/20210915_procesamientodearchivoslhe-100100100100100/blob/main/Masa_Invariante_EL_CHIDO.ipynb\" target=\"_parent\"><img src=\"https://colab.research.google.com/assets/colab-badge.svg\" alt=\"Open In Colab\"/></a>"
      ]
    },
    {
      "cell_type": "code",
      "metadata": {
        "colab": {
          "base_uri": "https://localhost:8080/",
          "height": 359
        },
        "id": "YpV_x_n5NCHL",
        "outputId": "e222f0bc-7a4c-41c0-fd2c-a84ff50fb528"
      },
      "source": [
        "import pandas as pd \n",
        "import numpy as np\n",
        "import matplotlib.pyplot as plt\n",
        "from scipy.stats import norm\n",
        "from scipy import constants as sc\n",
        "import math\n",
        " \n",
        " \n",
        "data=pd.read_csv(\"/content/drive/MyDrive/Datos/Muones.csv\")\n",
        " \n",
        "data.head(10)"
      ],
      "execution_count": 24,
      "outputs": [
        {
          "output_type": "execute_result",
          "data": {
            "text/html": [
              "<div>\n",
              "<style scoped>\n",
              "    .dataframe tbody tr th:only-of-type {\n",
              "        vertical-align: middle;\n",
              "    }\n",
              "\n",
              "    .dataframe tbody tr th {\n",
              "        vertical-align: top;\n",
              "    }\n",
              "\n",
              "    .dataframe thead th {\n",
              "        text-align: right;\n",
              "    }\n",
              "</style>\n",
              "<table border=\"1\" class=\"dataframe\">\n",
              "  <thead>\n",
              "    <tr style=\"text-align: right;\">\n",
              "      <th></th>\n",
              "      <th>px</th>\n",
              "      <th>py</th>\n",
              "      <th>pz</th>\n",
              "      <th>E</th>\n",
              "      <th>mx</th>\n",
              "      <th>my</th>\n",
              "      <th>mz</th>\n",
              "      <th>K</th>\n",
              "    </tr>\n",
              "  </thead>\n",
              "  <tbody>\n",
              "    <tr>\n",
              "      <th>0</th>\n",
              "      <td>-25.416007</td>\n",
              "      <td>35.010752</td>\n",
              "      <td>86.334113</td>\n",
              "      <td>96.567620</td>\n",
              "      <td>25.416007</td>\n",
              "      <td>-35.010752</td>\n",
              "      <td>39.850978</td>\n",
              "      <td>58.820291</td>\n",
              "    </tr>\n",
              "    <tr>\n",
              "      <th>1</th>\n",
              "      <td>15.612459</td>\n",
              "      <td>-33.486087</td>\n",
              "      <td>15.291070</td>\n",
              "      <td>39.986045</td>\n",
              "      <td>-15.612459</td>\n",
              "      <td>33.486087</td>\n",
              "      <td>102.211484</td>\n",
              "      <td>108.684196</td>\n",
              "    </tr>\n",
              "    <tr>\n",
              "      <th>2</th>\n",
              "      <td>-12.683705</td>\n",
              "      <td>15.981324</td>\n",
              "      <td>111.997587</td>\n",
              "      <td>113.840848</td>\n",
              "      <td>12.683705</td>\n",
              "      <td>-15.981324</td>\n",
              "      <td>-11.016872</td>\n",
              "      <td>23.187293</td>\n",
              "    </tr>\n",
              "    <tr>\n",
              "      <th>3</th>\n",
              "      <td>13.174934</td>\n",
              "      <td>42.043646</td>\n",
              "      <td>-19.199519</td>\n",
              "      <td>48.061092</td>\n",
              "      <td>-13.174934</td>\n",
              "      <td>-42.043646</td>\n",
              "      <td>-42.374808</td>\n",
              "      <td>61.129955</td>\n",
              "    </tr>\n",
              "    <tr>\n",
              "      <th>4</th>\n",
              "      <td>-37.019273</td>\n",
              "      <td>-4.414691</td>\n",
              "      <td>77.437419</td>\n",
              "      <td>85.944575</td>\n",
              "      <td>37.019273</td>\n",
              "      <td>4.414691</td>\n",
              "      <td>156.310601</td>\n",
              "      <td>160.695116</td>\n",
              "    </tr>\n",
              "    <tr>\n",
              "      <th>5</th>\n",
              "      <td>-15.500178</td>\n",
              "      <td>-36.312549</td>\n",
              "      <td>166.139598</td>\n",
              "      <td>170.766574</td>\n",
              "      <td>15.500178</td>\n",
              "      <td>36.312549</td>\n",
              "      <td>469.141185</td>\n",
              "      <td>470.799648</td>\n",
              "    </tr>\n",
              "    <tr>\n",
              "      <th>6</th>\n",
              "      <td>22.968205</td>\n",
              "      <td>-28.635090</td>\n",
              "      <td>-80.315959</td>\n",
              "      <td>88.307192</td>\n",
              "      <td>-22.968205</td>\n",
              "      <td>28.635090</td>\n",
              "      <td>-380.328297</td>\n",
              "      <td>382.095695</td>\n",
              "    </tr>\n",
              "    <tr>\n",
              "      <th>7</th>\n",
              "      <td>-26.545426</td>\n",
              "      <td>-31.047352</td>\n",
              "      <td>-2.799173</td>\n",
              "      <td>40.944268</td>\n",
              "      <td>26.545426</td>\n",
              "      <td>31.047352</td>\n",
              "      <td>-34.903390</td>\n",
              "      <td>53.729362</td>\n",
              "    </tr>\n",
              "    <tr>\n",
              "      <th>8</th>\n",
              "      <td>37.287648</td>\n",
              "      <td>-25.666477</td>\n",
              "      <td>386.549645</td>\n",
              "      <td>389.191167</td>\n",
              "      <td>-37.287648</td>\n",
              "      <td>25.666477</td>\n",
              "      <td>549.372077</td>\n",
              "      <td>551.233903</td>\n",
              "    </tr>\n",
              "    <tr>\n",
              "      <th>9</th>\n",
              "      <td>24.188729</td>\n",
              "      <td>11.187971</td>\n",
              "      <td>168.175377</td>\n",
              "      <td>170.273964</td>\n",
              "      <td>-24.188729</td>\n",
              "      <td>-11.187971</td>\n",
              "      <td>1644.918895</td>\n",
              "      <td>1645.134778</td>\n",
              "    </tr>\n",
              "  </tbody>\n",
              "</table>\n",
              "</div>"
            ],
            "text/plain": [
              "          px         py          pz  ...         my           mz            K\n",
              "0 -25.416007  35.010752   86.334113  ... -35.010752    39.850978    58.820291\n",
              "1  15.612459 -33.486087   15.291070  ...  33.486087   102.211484   108.684196\n",
              "2 -12.683705  15.981324  111.997587  ... -15.981324   -11.016872    23.187293\n",
              "3  13.174934  42.043646  -19.199519  ... -42.043646   -42.374808    61.129955\n",
              "4 -37.019273  -4.414691   77.437419  ...   4.414691   156.310601   160.695116\n",
              "5 -15.500178 -36.312549  166.139598  ...  36.312549   469.141185   470.799648\n",
              "6  22.968205 -28.635090  -80.315959  ...  28.635090  -380.328297   382.095695\n",
              "7 -26.545426 -31.047352   -2.799173  ...  31.047352   -34.903390    53.729362\n",
              "8  37.287648 -25.666477  386.549645  ...  25.666477   549.372077   551.233903\n",
              "9  24.188729  11.187971  168.175377  ... -11.187971  1644.918895  1645.134778\n",
              "\n",
              "[10 rows x 8 columns]"
            ]
          },
          "metadata": {},
          "execution_count": 24
        }
      ]
    },
    {
      "cell_type": "markdown",
      "metadata": {
        "id": "YaU2NtmrXZw-"
      },
      "source": [
        "**Usando Unidades Naturales**"
      ]
    },
    {
      "cell_type": "markdown",
      "metadata": {
        "id": "Xob0lOtoX8we"
      },
      "source": [
        "**Aquí inicia lo chido. Basandome en lo que hizo el compañero Vallejo**"
      ]
    },
    {
      "cell_type": "code",
      "metadata": {
        "id": "ZHJ1FyklYFSB"
      },
      "source": [
        "E= (data['E'] + data['K'])**2\n",
        "Px= (data['px']+data['mx'])**2\n",
        "Py= (data['py']+data['my'])**2\n",
        "Pz= (data['pz']+data['mz'])**2\n",
        "P = Px + Py + Pz\n",
        "EP = E-P\n",
        "\n",
        "m = np.sqrt(EP)"
      ],
      "execution_count": null,
      "outputs": []
    },
    {
      "cell_type": "code",
      "metadata": {
        "colab": {
          "base_uri": "https://localhost:8080/",
          "height": 337
        },
        "id": "7Vv_jU3HYpu5",
        "outputId": "280169cc-1f8a-4df4-cd1f-5873e693ebd7"
      },
      "source": [
        "plt.hist(m)"
      ],
      "execution_count": null,
      "outputs": [
        {
          "output_type": "execute_result",
          "data": {
            "text/plain": [
              "(array([  43.,   57.,   95.,  286., 4342., 4765.,  278.,   71.,   41.,\n",
              "          22.]), array([ 54.79257599,  62.04608457,  69.29959314,  76.55310171,\n",
              "         83.80661029,  91.06011886,  98.31362743, 105.56713601,\n",
              "        112.82064458, 120.07415315, 127.32766173]), <a list of 10 Patch objects>)"
            ]
          },
          "metadata": {},
          "execution_count": 20
        },
        {
          "output_type": "display_data",
          "data": {
            "image/png": "[encoded data removed]",
            "text/plain": [
              "<Figure size 432x288 with 1 Axes>"
            ]
          },
          "metadata": {
            "needs_background": "light"
          }
        }
      ]
    },
    {
      "cell_type": "code",
      "metadata": {
        "id": "3xkLIRmRjvyc"
      },
      "source": [
        "phi = np.arctan(data['py']/data['px'])"
      ],
      "execution_count": 30,
      "outputs": []
    },
    {
      "cell_type": "code",
      "metadata": {
        "colab": {
          "base_uri": "https://localhost:8080/",
          "height": 282
        },
        "id": "8H6-22mhmDWZ",
        "outputId": "86d659aa-4990-4d5a-92f2-55ea8c306951"
      },
      "source": [
        "plt.plot(phi)"
      ],
      "execution_count": 31,
      "outputs": [
        {
          "output_type": "execute_result",
          "data": {
            "text/plain": [
              "[<matplotlib.lines.Line2D at 0x7fba8d3dd050>]"
            ]
          },
          "metadata": {},
          "execution_count": 31
        },
        {
          "output_type": "display_data",
          "data": {
            "image/png": "[encoded data removed]",
            "text/plain": [
              "<Figure size 432x288 with 1 Axes>"
            ]
          },
          "metadata": {
            "needs_background": "light"
          }
        }
      ]
    },
    {
      "cell_type": "code",
      "metadata": {
        "colab": {
          "base_uri": "https://localhost:8080/",
          "height": 367
        },
        "id": "z7qpJl04mkeI",
        "outputId": "73603e21-cca4-4546-cc13-b8501ffffa1e"
      },
      "source": [
        "plt.hist(phi)"
      ],
      "execution_count": 32,
      "outputs": [
        {
          "output_type": "execute_result",
          "data": {
            "text/plain": [
              "(array([ 958.,  974., 1015., 1013., 1013.,  968., 1018.,  995., 1031.,\n",
              "        1015.]),\n",
              " array([-1.57044697e+00, -1.25634513e+00, -9.42243279e-01, -6.28141431e-01,\n",
              "        -3.14039583e-01,  6.22647964e-05,  3.14164113e-01,  6.28265961e-01,\n",
              "         9.42367808e-01,  1.25646966e+00,  1.57057150e+00]),\n",
              " <a list of 10 Patch objects>)"
            ]
          },
          "metadata": {},
          "execution_count": 32
        },
        {
          "output_type": "display_data",
          "data": {
            "image/png": "[encoded data removed]",
            "text/plain": [
              "<Figure size 432x288 with 1 Axes>"
            ]
          },
          "metadata": {
            "needs_background": "light"
          }
        }
      ]
    }
  ]
}